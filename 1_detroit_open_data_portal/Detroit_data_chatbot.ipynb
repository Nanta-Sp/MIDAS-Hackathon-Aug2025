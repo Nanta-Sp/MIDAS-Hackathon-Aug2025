{
 "cells": [
  {
   "cell_type": "code",
   "execution_count": 61,
   "id": "f36af874",
   "metadata": {},
   "outputs": [],
   "source": [
    "# Knowledge graph  for Detroit 911 call and charge data\n",
    "from dotenv import load_dotenv\n",
    "import os\n",
    "\n",
    "# Common data processing\n",
    "import json\n",
    "import textwrap\n",
    "\n",
    "# Langchain\n",
    "from langchain_community.graphs import Neo4jGraph\n",
    "from langchain_community.vectorstores import Neo4jVector\n",
    "from langchain_openai import OpenAIEmbeddings\n",
    "from langchain.text_splitter import RecursiveCharacterTextSplitter\n",
    "from langchain.chains import RetrievalQAWithSourcesChain\n",
    "from langchain_openai import ChatOpenAI\n",
    "\n",
    "import pandas as pd"
   ]
  },
  {
   "cell_type": "code",
   "execution_count": 2,
   "id": "7e1f2830",
   "metadata": {},
   "outputs": [],
   "source": [
    "# Load from environment\n",
    "load_dotenv('.env', override=True)\n",
    "NEO4J_URI = os.getenv('NEO4J_URI')\n",
    "NEO4J_USERNAME = os.getenv('NEO4J_USERNAME')\n",
    "NEO4J_PASSWORD = os.getenv('NEO4J_PASSWORD')\n",
    "NEO4J_DATABASE = os.getenv('NEO4J_DATABASE') or 'neo4j'\n",
    "OPENAI_API_KEY = os.getenv('OPENAI_API_KEY')"
   ]
  },
  {
   "cell_type": "code",
   "execution_count": 3,
   "id": "d74f4e00",
   "metadata": {},
   "outputs": [],
   "source": [
    "police911call = '/home/nanta/MIDAS-Hackathon-Aug2025/1_detroit_open_data_portal/Police_Serviced_911_Calls_2024.csv'\n",
    "RMS_crimefile = '/home/nanta/MIDAS-Hackathon-Aug2025/1_detroit_open_data_portal/RMS_Crime_Incidents_2024.csv'\n"
   ]
  },
  {
   "cell_type": "code",
   "execution_count": 68,
   "id": "2ba733fa",
   "metadata": {},
   "outputs": [],
   "source": [
    "df911 = pd.read_csv(police911call)\n",
    "df911=df911[0:3000]"
   ]
  },
  {
   "cell_type": "code",
   "execution_count": 71,
   "id": "2a07c134",
   "metadata": {},
   "outputs": [
    {
     "name": "stdout",
     "output_type": "stream",
     "text": [
      "14\n"
     ]
    },
    {
     "data": {
      "text/html": [
       "<div>\n",
       "<style scoped>\n",
       "    .dataframe tbody tr th:only-of-type {\n",
       "        vertical-align: middle;\n",
       "    }\n",
       "\n",
       "    .dataframe tbody tr th {\n",
       "        vertical-align: top;\n",
       "    }\n",
       "\n",
       "    .dataframe thead th {\n",
       "        text-align: right;\n",
       "    }\n",
       "</style>\n",
       "<table border=\"1\" class=\"dataframe\">\n",
       "  <thead>\n",
       "    <tr style=\"text-align: right;\">\n",
       "      <th></th>\n",
       "      <th>X</th>\n",
       "      <th>Y</th>\n",
       "      <th>incident_entry_id</th>\n",
       "      <th>incident_id</th>\n",
       "      <th>incident_location</th>\n",
       "      <th>call_source</th>\n",
       "      <th>call_description</th>\n",
       "      <th>category</th>\n",
       "      <th>priority</th>\n",
       "      <th>call_group</th>\n",
       "      <th>...</th>\n",
       "      <th>total_response_time</th>\n",
       "      <th>total_time</th>\n",
       "      <th>zip_code</th>\n",
       "      <th>precinct</th>\n",
       "      <th>scout_car_area</th>\n",
       "      <th>neighborhood_name</th>\n",
       "      <th>council_district</th>\n",
       "      <th>longitude</th>\n",
       "      <th>latitude</th>\n",
       "      <th>ESRI_OID</th>\n",
       "    </tr>\n",
       "  </thead>\n",
       "  <tbody>\n",
       "    <tr>\n",
       "      <th>3</th>\n",
       "      <td>-83.033012</td>\n",
       "      <td>42.438688</td>\n",
       "      <td>243662376</td>\n",
       "      <td>202436602376</td>\n",
       "      <td>E Lantz St &amp; Concord St</td>\n",
       "      <td>W911</td>\n",
       "      <td>MALICIOUS DESTRUCTION I/P</td>\n",
       "      <td>MDPIP</td>\n",
       "      <td>3</td>\n",
       "      <td>11PCT</td>\n",
       "      <td>...</td>\n",
       "      <td>206.8</td>\n",
       "      <td>222.2</td>\n",
       "      <td>48234</td>\n",
       "      <td>11.0</td>\n",
       "      <td>1104</td>\n",
       "      <td>Nortown</td>\n",
       "      <td>3.0</td>\n",
       "      <td>-83.033012</td>\n",
       "      <td>42.438688</td>\n",
       "      <td>6004</td>\n",
       "    </tr>\n",
       "    <tr>\n",
       "      <th>31</th>\n",
       "      <td>-83.031961</td>\n",
       "      <td>42.438710</td>\n",
       "      <td>243662171</td>\n",
       "      <td>202436602171</td>\n",
       "      <td>E Lantz St &amp; Helen St</td>\n",
       "      <td>W911</td>\n",
       "      <td>UDAA REPORT</td>\n",
       "      <td>UDAAREPT</td>\n",
       "      <td>4</td>\n",
       "      <td>11PCT</td>\n",
       "      <td>...</td>\n",
       "      <td>27.7</td>\n",
       "      <td>40.2</td>\n",
       "      <td>48234</td>\n",
       "      <td>11.0</td>\n",
       "      <td>1104</td>\n",
       "      <td>Nortown</td>\n",
       "      <td>3.0</td>\n",
       "      <td>-83.031961</td>\n",
       "      <td>42.438710</td>\n",
       "      <td>6034</td>\n",
       "    </tr>\n",
       "    <tr>\n",
       "      <th>266</th>\n",
       "      <td>-83.029695</td>\n",
       "      <td>42.433867</td>\n",
       "      <td>243660607</td>\n",
       "      <td>202436600607</td>\n",
       "      <td>E 7 Mile Rd &amp; Rogge St</td>\n",
       "      <td>W911</td>\n",
       "      <td>TRAFFIC INCIDENT W/ INJURIES</td>\n",
       "      <td>TRAFF2</td>\n",
       "      <td>1</td>\n",
       "      <td>11PCT</td>\n",
       "      <td>...</td>\n",
       "      <td>9.6</td>\n",
       "      <td>22.4</td>\n",
       "      <td>48234</td>\n",
       "      <td>11.0</td>\n",
       "      <td>1104</td>\n",
       "      <td>Nortown</td>\n",
       "      <td>3.0</td>\n",
       "      <td>-83.029695</td>\n",
       "      <td>42.433867</td>\n",
       "      <td>6269</td>\n",
       "    </tr>\n",
       "    <tr>\n",
       "      <th>544</th>\n",
       "      <td>-83.024261</td>\n",
       "      <td>42.433978</td>\n",
       "      <td>243654780</td>\n",
       "      <td>202436504780</td>\n",
       "      <td>Van Dyke St &amp; E 7 Mile Rd</td>\n",
       "      <td>W911</td>\n",
       "      <td>INVESTIGATE PERSON</td>\n",
       "      <td>INVPERS</td>\n",
       "      <td>3</td>\n",
       "      <td>11PCT</td>\n",
       "      <td>...</td>\n",
       "      <td>6.6</td>\n",
       "      <td>24.3</td>\n",
       "      <td>48234</td>\n",
       "      <td>11.0</td>\n",
       "      <td>1105</td>\n",
       "      <td>Nortown</td>\n",
       "      <td>3.0</td>\n",
       "      <td>-83.024261</td>\n",
       "      <td>42.433978</td>\n",
       "      <td>6564</td>\n",
       "    </tr>\n",
       "    <tr>\n",
       "      <th>774</th>\n",
       "      <td>-83.024326</td>\n",
       "      <td>42.436014</td>\n",
       "      <td>243653455</td>\n",
       "      <td>202436503455</td>\n",
       "      <td>Emery St &amp; Van Dyke St</td>\n",
       "      <td>W911</td>\n",
       "      <td>ASSAULT AND BATTERY IP-JH</td>\n",
       "      <td>AB IP/JH</td>\n",
       "      <td>2</td>\n",
       "      <td>11PCT</td>\n",
       "      <td>...</td>\n",
       "      <td>50.5</td>\n",
       "      <td>55.7</td>\n",
       "      <td>48234</td>\n",
       "      <td>11.0</td>\n",
       "      <td>1104</td>\n",
       "      <td>Nortown</td>\n",
       "      <td>3.0</td>\n",
       "      <td>-83.024326</td>\n",
       "      <td>42.436014</td>\n",
       "      <td>6794</td>\n",
       "    </tr>\n",
       "  </tbody>\n",
       "</table>\n",
       "<p>5 rows × 26 columns</p>\n",
       "</div>"
      ],
      "text/plain": [
       "             X          Y  incident_entry_id   incident_id  \\\n",
       "3   -83.033012  42.438688          243662376  202436602376   \n",
       "31  -83.031961  42.438710          243662171  202436602171   \n",
       "266 -83.029695  42.433867          243660607  202436600607   \n",
       "544 -83.024261  42.433978          243654780  202436504780   \n",
       "774 -83.024326  42.436014          243653455  202436503455   \n",
       "\n",
       "             incident_location call_source              call_description  \\\n",
       "3      E Lantz St & Concord St       W911      MALICIOUS DESTRUCTION I/P   \n",
       "31       E Lantz St & Helen St       W911                    UDAA REPORT   \n",
       "266     E 7 Mile Rd & Rogge St       W911   TRAFFIC INCIDENT W/ INJURIES   \n",
       "544  Van Dyke St & E 7 Mile Rd       W911             INVESTIGATE PERSON   \n",
       "774     Emery St & Van Dyke St       W911      ASSAULT AND BATTERY IP-JH   \n",
       "\n",
       "     category priority call_group  ... total_response_time total_time  \\\n",
       "3    MDPIP           3     11PCT   ...               206.8      222.2   \n",
       "31   UDAAREPT        4     11PCT   ...                27.7       40.2   \n",
       "266  TRAFF2          1     11PCT   ...                 9.6       22.4   \n",
       "544  INVPERS         3     11PCT   ...                 6.6       24.3   \n",
       "774  AB IP/JH        2     11PCT   ...                50.5       55.7   \n",
       "\n",
       "     zip_code  precinct  scout_car_area  neighborhood_name  council_district  \\\n",
       "3       48234      11.0            1104            Nortown               3.0   \n",
       "31      48234      11.0            1104            Nortown               3.0   \n",
       "266     48234      11.0            1104            Nortown               3.0   \n",
       "544     48234      11.0            1105            Nortown               3.0   \n",
       "774     48234      11.0            1104            Nortown               3.0   \n",
       "\n",
       "     longitude   latitude  ESRI_OID  \n",
       "3   -83.033012  42.438688      6004  \n",
       "31  -83.031961  42.438710      6034  \n",
       "266 -83.029695  42.433867      6269  \n",
       "544 -83.024261  42.433978      6564  \n",
       "774 -83.024326  42.436014      6794  \n",
       "\n",
       "[5 rows x 26 columns]"
      ]
     },
     "execution_count": 71,
     "metadata": {},
     "output_type": "execute_result"
    }
   ],
   "source": [
    "\n",
    "print(len(df911[df911['neighborhood_name']=='Nortown']))\n",
    "df911[df911['neighborhood_name']=='Nortown'].head(5)"
   ]
  },
  {
   "cell_type": "code",
   "execution_count": 91,
   "id": "18b225ea",
   "metadata": {},
   "outputs": [
    {
     "name": "stdout",
     "output_type": "stream",
     "text": [
      "199\n"
     ]
    }
   ],
   "source": [
    "df_neighborhoods = pd.DataFrame({'neighborhood_name': df911['neighborhood_name'].unique()})\n",
    "df_neighborhoods.head()\n",
    "print(len(df_neighborhoods))"
   ]
  },
  {
   "cell_type": "code",
   "execution_count": 96,
   "id": "6baab8c3",
   "metadata": {},
   "outputs": [],
   "source": [
    "df_neighborhoods['neighborhood_name'] = df_neighborhoods['neighborhood_name'].fillna(\"None\")"
   ]
  },
  {
   "cell_type": "code",
   "execution_count": 84,
   "id": "a5d65472",
   "metadata": {},
   "outputs": [
    {
     "name": "stdout",
     "output_type": "stream",
     "text": [
      "12\n"
     ]
    },
    {
     "name": "stderr",
     "output_type": "stream",
     "text": [
      "/tmp/ipykernel_44441/632846228.py:1: DtypeWarning: Columns (7) have mixed types. Specify dtype option on import or set low_memory=False.\n",
      "  dfRMS = pd.read_csv(RMS_crimefile)\n"
     ]
    },
    {
     "data": {
      "text/html": [
       "<div>\n",
       "<style scoped>\n",
       "    .dataframe tbody tr th:only-of-type {\n",
       "        vertical-align: middle;\n",
       "    }\n",
       "\n",
       "    .dataframe tbody tr th {\n",
       "        vertical-align: top;\n",
       "    }\n",
       "\n",
       "    .dataframe thead th {\n",
       "        text-align: right;\n",
       "    }\n",
       "</style>\n",
       "<table border=\"1\" class=\"dataframe\">\n",
       "  <thead>\n",
       "    <tr style=\"text-align: right;\">\n",
       "      <th></th>\n",
       "      <th>X</th>\n",
       "      <th>Y</th>\n",
       "      <th>incident_entry_id</th>\n",
       "      <th>nearest_intersection</th>\n",
       "      <th>offense_category</th>\n",
       "      <th>offense_description</th>\n",
       "      <th>state_offense_code</th>\n",
       "      <th>arrest_charge</th>\n",
       "      <th>charge_description</th>\n",
       "      <th>incident_occurred_at</th>\n",
       "      <th>...</th>\n",
       "      <th>report_number</th>\n",
       "      <th>scout_car_area</th>\n",
       "      <th>police_precinct</th>\n",
       "      <th>census_block_2020_geoid</th>\n",
       "      <th>neighborhood</th>\n",
       "      <th>council_district</th>\n",
       "      <th>zip_code</th>\n",
       "      <th>longitude</th>\n",
       "      <th>latitude</th>\n",
       "      <th>ESRI_OID</th>\n",
       "    </tr>\n",
       "  </thead>\n",
       "  <tbody>\n",
       "    <tr>\n",
       "      <th>920</th>\n",
       "      <td>-83.030818</td>\n",
       "      <td>42.435881</td>\n",
       "      <td>1080413-1301</td>\n",
       "      <td>Emery St &amp; Carrie St</td>\n",
       "      <td>ASSAULT</td>\n",
       "      <td>ASSAULT AND BATTERY/SIMPLE ASSAULT</td>\n",
       "      <td>1301</td>\n",
       "      <td>13001</td>\n",
       "      <td>ASSAULT AND BATTERY/SIMPLE ASSAULT</td>\n",
       "      <td>2024/01/30 02:12:00+00</td>\n",
       "      <td>...</td>\n",
       "      <td>2401290387</td>\n",
       "      <td>1104</td>\n",
       "      <td>11</td>\n",
       "      <td>2.616351e+14</td>\n",
       "      <td>Nortown</td>\n",
       "      <td>3.0</td>\n",
       "      <td>48234.0</td>\n",
       "      <td>-83.030818</td>\n",
       "      <td>42.435881</td>\n",
       "      <td>21377</td>\n",
       "    </tr>\n",
       "    <tr>\n",
       "      <th>1434</th>\n",
       "      <td>-83.033012</td>\n",
       "      <td>42.438688</td>\n",
       "      <td>1145435-2605</td>\n",
       "      <td>E Lantz St &amp; Concord St</td>\n",
       "      <td>FRAUD</td>\n",
       "      <td>FRAUD BY WIRE</td>\n",
       "      <td>2605</td>\n",
       "      <td>26005</td>\n",
       "      <td>FRAUD BY WIRE</td>\n",
       "      <td>2024/06/26 17:00:00+00</td>\n",
       "      <td>...</td>\n",
       "      <td>2406270137</td>\n",
       "      <td>1104</td>\n",
       "      <td>11</td>\n",
       "      <td>2.616351e+14</td>\n",
       "      <td>Nortown</td>\n",
       "      <td>3.0</td>\n",
       "      <td>48234.0</td>\n",
       "      <td>-83.033012</td>\n",
       "      <td>42.438688</td>\n",
       "      <td>33470</td>\n",
       "    </tr>\n",
       "    <tr>\n",
       "      <th>1874</th>\n",
       "      <td>-83.026471</td>\n",
       "      <td>42.438830</td>\n",
       "      <td>1095486-1301</td>\n",
       "      <td>Spencer St &amp; E Lantz St</td>\n",
       "      <td>ASSAULT</td>\n",
       "      <td>ASSAULT AND BATTERY/SIMPLE ASSAULT</td>\n",
       "      <td>1301</td>\n",
       "      <td>13001</td>\n",
       "      <td>ASSAULT AND BATTERY/SIMPLE ASSAULT</td>\n",
       "      <td>2024/03/01 21:00:00+00</td>\n",
       "      <td>...</td>\n",
       "      <td>2403050275</td>\n",
       "      <td>1104</td>\n",
       "      <td>11</td>\n",
       "      <td>2.616351e+14</td>\n",
       "      <td>Nortown</td>\n",
       "      <td>3.0</td>\n",
       "      <td>48234.0</td>\n",
       "      <td>-83.026471</td>\n",
       "      <td>42.438830</td>\n",
       "      <td>42572</td>\n",
       "    </tr>\n",
       "    <tr>\n",
       "      <th>2078</th>\n",
       "      <td>-83.031866</td>\n",
       "      <td>42.435858</td>\n",
       "      <td>1091573-1302</td>\n",
       "      <td>Emery St &amp; Helen St</td>\n",
       "      <td>AGGRAVATED ASSAULT</td>\n",
       "      <td>AGGRAVATED / FELONIOUS ASSAULT</td>\n",
       "      <td>1302</td>\n",
       "      <td>13002</td>\n",
       "      <td>AGGRAVATED / FELONIOUS ASSAULT                ...</td>\n",
       "      <td>2024/02/25 23:23:00+00</td>\n",
       "      <td>...</td>\n",
       "      <td>2402250256</td>\n",
       "      <td>1104</td>\n",
       "      <td>11</td>\n",
       "      <td>2.616351e+14</td>\n",
       "      <td>Nortown</td>\n",
       "      <td>3.0</td>\n",
       "      <td>48234.0</td>\n",
       "      <td>-83.031866</td>\n",
       "      <td>42.435858</td>\n",
       "      <td>46108</td>\n",
       "    </tr>\n",
       "    <tr>\n",
       "      <th>2134</th>\n",
       "      <td>-83.029817</td>\n",
       "      <td>42.437385</td>\n",
       "      <td>1146517-1304</td>\n",
       "      <td>Rogge St &amp; Bliss St</td>\n",
       "      <td>AGGRAVATED ASSAULT</td>\n",
       "      <td>NON-FATAL SHOOTING</td>\n",
       "      <td>1304</td>\n",
       "      <td>13004</td>\n",
       "      <td>NON-FATAL SHOOTING                            ...</td>\n",
       "      <td>2024/06/30 02:20:00+00</td>\n",
       "      <td>...</td>\n",
       "      <td>2406300010</td>\n",
       "      <td>1104</td>\n",
       "      <td>11</td>\n",
       "      <td>2.616351e+14</td>\n",
       "      <td>Nortown</td>\n",
       "      <td>3.0</td>\n",
       "      <td>48234.0</td>\n",
       "      <td>-83.029817</td>\n",
       "      <td>42.437385</td>\n",
       "      <td>46875</td>\n",
       "    </tr>\n",
       "  </tbody>\n",
       "</table>\n",
       "<p>5 rows × 30 columns</p>\n",
       "</div>"
      ],
      "text/plain": [
       "              X          Y incident_entry_id     nearest_intersection  \\\n",
       "920  -83.030818  42.435881      1080413-1301     Emery St & Carrie St   \n",
       "1434 -83.033012  42.438688      1145435-2605  E Lantz St & Concord St   \n",
       "1874 -83.026471  42.438830      1095486-1301  Spencer St & E Lantz St   \n",
       "2078 -83.031866  42.435858      1091573-1302      Emery St & Helen St   \n",
       "2134 -83.029817  42.437385      1146517-1304      Rogge St & Bliss St   \n",
       "\n",
       "        offense_category                 offense_description  \\\n",
       "920              ASSAULT  ASSAULT AND BATTERY/SIMPLE ASSAULT   \n",
       "1434               FRAUD                       FRAUD BY WIRE   \n",
       "1874             ASSAULT  ASSAULT AND BATTERY/SIMPLE ASSAULT   \n",
       "2078  AGGRAVATED ASSAULT      AGGRAVATED / FELONIOUS ASSAULT   \n",
       "2134  AGGRAVATED ASSAULT                  NON-FATAL SHOOTING   \n",
       "\n",
       "      state_offense_code arrest_charge  \\\n",
       "920                 1301         13001   \n",
       "1434                2605         26005   \n",
       "1874                1301         13001   \n",
       "2078                1302         13002   \n",
       "2134                1304         13004   \n",
       "\n",
       "                                     charge_description  \\\n",
       "920                  ASSAULT AND BATTERY/SIMPLE ASSAULT   \n",
       "1434                                      FRAUD BY WIRE   \n",
       "1874                 ASSAULT AND BATTERY/SIMPLE ASSAULT   \n",
       "2078  AGGRAVATED / FELONIOUS ASSAULT                ...   \n",
       "2134  NON-FATAL SHOOTING                            ...   \n",
       "\n",
       "        incident_occurred_at  ... report_number  scout_car_area  \\\n",
       "920   2024/01/30 02:12:00+00  ...    2401290387            1104   \n",
       "1434  2024/06/26 17:00:00+00  ...    2406270137            1104   \n",
       "1874  2024/03/01 21:00:00+00  ...    2403050275            1104   \n",
       "2078  2024/02/25 23:23:00+00  ...    2402250256            1104   \n",
       "2134  2024/06/30 02:20:00+00  ...    2406300010            1104   \n",
       "\n",
       "      police_precinct  census_block_2020_geoid  neighborhood council_district  \\\n",
       "920                11             2.616351e+14       Nortown              3.0   \n",
       "1434               11             2.616351e+14       Nortown              3.0   \n",
       "1874               11             2.616351e+14       Nortown              3.0   \n",
       "2078               11             2.616351e+14       Nortown              3.0   \n",
       "2134               11             2.616351e+14       Nortown              3.0   \n",
       "\n",
       "     zip_code  longitude   latitude  ESRI_OID  \n",
       "920   48234.0 -83.030818  42.435881     21377  \n",
       "1434  48234.0 -83.033012  42.438688     33470  \n",
       "1874  48234.0 -83.026471  42.438830     42572  \n",
       "2078  48234.0 -83.031866  42.435858     46108  \n",
       "2134  48234.0 -83.029817  42.437385     46875  \n",
       "\n",
       "[5 rows x 30 columns]"
      ]
     },
     "execution_count": 84,
     "metadata": {},
     "output_type": "execute_result"
    }
   ],
   "source": [
    "dfRMS = pd.read_csv(RMS_crimefile)\n",
    "dfRMS=dfRMS[0:3000]\n",
    "print(len(dfRMS[dfRMS['neighborhood']=='Nortown']))\n",
    "dfRMS[dfRMS['neighborhood']=='Nortown'].head(5)"
   ]
  },
  {
   "cell_type": "code",
   "execution_count": null,
   "id": "e0d8658f",
   "metadata": {},
   "outputs": [
    {
     "data": {
      "text/plain": [
       "198"
      ]
     },
     "execution_count": 88,
     "metadata": {},
     "output_type": "execute_result"
    }
   ],
   "source": [
    "len(dfRMS['neighborhood'].unique())"
   ]
  },
  {
   "cell_type": "code",
   "execution_count": 89,
   "id": "158e3704",
   "metadata": {},
   "outputs": [
    {
     "name": "stdout",
     "output_type": "stream",
     "text": [
      "Total unique neighborhoods in both datasets: 203\n"
     ]
    }
   ],
   "source": [
    "combined_unique_neighborhoods = set(df911['neighborhood_name'].unique()).union(set(dfRMS['neighborhood'].unique()))\n",
    "print(f\"Total unique neighborhoods in both datasets: {len(combined_unique_neighborhoods)}\")"
   ]
  },
  {
   "cell_type": "code",
   "execution_count": 105,
   "id": "143d1c03",
   "metadata": {},
   "outputs": [
    {
     "name": "stdout",
     "output_type": "stream",
     "text": [
      "Unique neighborhoods only in 911 dataset: 5\n",
      "Unique neighborhoods only in RMS dataset: 4\n"
     ]
    }
   ],
   "source": [
    "only_in_911 = set(df911['neighborhood_name'].unique()) - set(dfRMS['neighborhood'].unique())\n",
    "only_in_RMS = set(dfRMS['neighborhood'].unique()) - set(df911['neighborhood_name'].unique())\n",
    "print(f\"Unique neighborhoods only in 911 dataset: {len(only_in_911)}\")\n",
    "print(f\"Unique neighborhoods only in RMS dataset: {len(only_in_RMS)}\")"
   ]
  },
  {
   "cell_type": "code",
   "execution_count": 106,
   "id": "2d48173f",
   "metadata": {},
   "outputs": [
    {
     "data": {
      "text/plain": [
       "{'Carbon Works',\n",
       " 'Garden Homes',\n",
       " 'Hubbard Richard',\n",
       " 'Oakwood Heights',\n",
       " 'Tech Town'}"
      ]
     },
     "execution_count": 106,
     "metadata": {},
     "output_type": "execute_result"
    }
   ],
   "source": [
    "only_in_911"
   ]
  },
  {
   "cell_type": "code",
   "execution_count": 6,
   "id": "7981f956",
   "metadata": {},
   "outputs": [
    {
     "name": "stderr",
     "output_type": "stream",
     "text": [
      "/tmp/ipykernel_44441/4096921373.py:4: DtypeWarning: Columns (7) have mixed types. Specify dtype option on import or set low_memory=False.\n",
      "  df = pd.read_csv(file_path)\n"
     ]
    }
   ],
   "source": [
    "# read csv into json\n",
    "def read_csv_to_json(file_path):\n",
    "    import pandas as pd\n",
    "    df = pd.read_csv(file_path)\n",
    "    return df.to_dict(orient='records')\n",
    "\n",
    "records911 = read_csv_to_json(police911call)\n",
    "recordsRMS = read_csv_to_json(RMS_crimefile)\n",
    "# Create a Neo4j graph"
   ]
  },
  {
   "cell_type": "code",
   "execution_count": 34,
   "id": "4095836d",
   "metadata": {},
   "outputs": [
    {
     "name": "stdout",
     "output_type": "stream",
     "text": [
      "324871 88356\n"
     ]
    }
   ],
   "source": [
    "print(len(records911), len(recordsRMS))"
   ]
  },
  {
   "cell_type": "code",
   "execution_count": null,
   "id": "d3de4830",
   "metadata": {},
   "outputs": [],
   "source": []
  },
  {
   "cell_type": "code",
   "execution_count": 59,
   "id": "cb65c54a",
   "metadata": {},
   "outputs": [
    {
     "data": {
      "text/plain": [
       "{'X': -83.033011583,\n",
       " 'Y': 42.4386882580001,\n",
       " 'incident_entry_id': 243662376,\n",
       " 'incident_id': 202436602376,\n",
       " 'incident_location': 'E Lantz St & Concord St',\n",
       " 'call_source': 'W911 ',\n",
       " 'call_description': 'MALICIOUS DESTRUCTION I/P',\n",
       " 'category': 'MDPIP   ',\n",
       " 'priority': '3',\n",
       " 'call_group': '11PCT ',\n",
       " 'call_code': '381030',\n",
       " 'called_at': '2024/12/31 18:18:09+00',\n",
       " 'intake_time': 2.2,\n",
       " 'dispatch_time': 202.1,\n",
       " 'travel_time': 2.5,\n",
       " 'on_scene_time': 15.4,\n",
       " 'total_response_time': 206.8,\n",
       " 'total_time': 222.2,\n",
       " 'zip_code': '48234',\n",
       " 'precinct': 11.0,\n",
       " 'scout_car_area': '1104',\n",
       " 'neighborhood_name': 'Nortown',\n",
       " 'council_district': 3.0,\n",
       " 'longitude': -83.0330115832331,\n",
       " 'latitude': 42.4386882577501,\n",
       " 'ESRI_OID': 6004}"
      ]
     },
     "execution_count": 59,
     "metadata": {},
     "output_type": "execute_result"
    }
   ],
   "source": [
    "records911[3]\n",
    "\n"
   ]
  },
  {
   "cell_type": "code",
   "execution_count": null,
   "id": "d49c8385",
   "metadata": {},
   "outputs": [
    {
     "data": {
      "text/plain": [
       "dict_keys(['X', 'Y', 'incident_entry_id', 'incident_id', 'incident_location', 'call_source', 'call_description', 'category', 'priority', 'call_group', 'call_code', 'called_at', 'intake_time', 'dispatch_time', 'travel_time', 'on_scene_time', 'total_response_time', 'total_time', 'zip_code', 'precinct', 'scout_car_area', 'neighborhood_name', 'council_district', 'longitude', 'latitude', 'ESRI_OID'])"
      ]
     },
     "execution_count": 26,
     "metadata": {},
     "output_type": "execute_result"
    }
   ],
   "source": [
    "records911[0].keys( )\n",
    "'incident_location'"
   ]
  },
  {
   "cell_type": "code",
   "execution_count": null,
   "id": "394832ee",
   "metadata": {},
   "outputs": [
    {
     "data": {
      "text/plain": [
       "{'X': -83.1964520935905,\n",
       " 'Y': 42.3725927891856,\n",
       " 'incident_entry_id': '1096475-4801',\n",
       " 'nearest_intersection': 'Prest St & Plymouth Rd',\n",
       " 'offense_category': 'OBSTRUCTING THE POLICE',\n",
       " 'offense_description': 'OBSTRUCTING POLICE',\n",
       " 'state_offense_code': 4801,\n",
       " 'arrest_charge': '48000',\n",
       " 'charge_description': 'OBSTRUCTING POLICE',\n",
       " 'incident_occurred_at': '2024/03/07 21:49:00+00',\n",
       " 'incident_time': '16:49:00',\n",
       " 'incident_day_of_week': 4,\n",
       " 'incident_hour_of_day': 16,\n",
       " 'incident_year': 2024,\n",
       " 'case_id': 1016852,\n",
       " 'case_status': 'CLEARED BY ARREST',\n",
       " 'case_status_updated_at': '2024/03/14 18:09:33+00',\n",
       " 'updated_in_ibr_at': '2024/03/20 19:55:27+00',\n",
       " 'updated_at': '2025/05/29 17:43:43.803+00',\n",
       " 'crime_id': 4016852,\n",
       " 'report_number': 2403070326,\n",
       " 'scout_car_area': '0204',\n",
       " 'police_precinct': '02',\n",
       " 'census_block_2020_geoid': 261635353002024.0,\n",
       " 'neighborhood': 'Plymouth-Hubbell',\n",
       " 'council_district': 7.0,\n",
       " 'zip_code': 48227.0,\n",
       " 'longitude': -83.1964520935905,\n",
       " 'latitude': 42.3725927891856,\n",
       " 'ESRI_OID': 2}"
      ]
     },
     "execution_count": 9,
     "metadata": {},
     "output_type": "execute_result"
    }
   ],
   "source": [
    "recordsRMS[0]\n",
    "'incident_entry_id','charge_description','nearest_intersection', 'neighborhood', 'longitude', 'latitude'"
   ]
  },
  {
   "cell_type": "code",
   "execution_count": 17,
   "id": "e783801a",
   "metadata": {},
   "outputs": [
    {
     "data": {
      "text/plain": [
       "-83.024140691"
      ]
     },
     "execution_count": 17,
     "metadata": {},
     "output_type": "execute_result"
    }
   ],
   "source": [
    "records911[0]['X']"
   ]
  },
  {
   "cell_type": "code",
   "execution_count": 42,
   "id": "fdac02a0",
   "metadata": {},
   "outputs": [],
   "source": [
    "kg = Neo4jGraph(\n",
    "    url=NEO4J_URI, username=NEO4J_USERNAME, password=NEO4J_PASSWORD, database=NEO4J_DATABASE\n",
    ")"
   ]
  },
  {
   "cell_type": "code",
   "execution_count": 39,
   "id": "51a00a47",
   "metadata": {},
   "outputs": [],
   "source": [
    "record911_node_query = \"\"\"\n",
    "MERGE(incident:Record911 {incidentId: $record.incident_id})\n",
    "    ON CREATE SET \n",
    "        incident.incident_time = $record.incident_time,\n",
    "        incident.incident_location = $record.incident_location,\n",
    "        incident.call_description = $record.call_description,\n",
    "        incident.called_at = $record.called_at,\n",
    "        incident.neighborhood_name = $record.neighborhood_name,\n",
    "        incident.longitude = $record.longitude,\n",
    "        incident.latitude = $record.latitude\n",
    "RETURN incident\n",
    "\"\"\"\n"
   ]
  },
  {
   "cell_type": "code",
   "execution_count": 31,
   "id": "f444410d",
   "metadata": {},
   "outputs": [
    {
     "data": {
      "text/plain": [
       "[{'incident': {'incidentId': 202436602386}}]"
      ]
     },
     "execution_count": 31,
     "metadata": {},
     "output_type": "execute_result"
    }
   ],
   "source": [
    "kg.query(record911_node_query, \n",
    "         params={'record':records911[0]})"
   ]
  },
  {
   "cell_type": "code",
   "execution_count": 54,
   "id": "f53bc442",
   "metadata": {},
   "outputs": [],
   "source": [
    "for record in records911[1200:3000]:\n",
    "    kg.query(record911_node_query, \n",
    "             params={'record':record})"
   ]
  },
  {
   "cell_type": "code",
   "execution_count": 56,
   "id": "62694173",
   "metadata": {},
   "outputs": [
    {
     "data": {
      "text/plain": [
       "[{'count(n)': 3000}]"
      ]
     },
     "execution_count": 56,
     "metadata": {},
     "output_type": "execute_result"
    }
   ],
   "source": [
    "kg.query(\"\"\"\n",
    "         MATCH (n)\n",
    "         RETURN count(n)\n",
    "         \"\"\")"
   ]
  },
  {
   "cell_type": "code",
   "execution_count": 67,
   "id": "08b1053d",
   "metadata": {},
   "outputs": [
    {
     "data": {
      "text/plain": [
       "[{'incident_count': 14}]"
      ]
     },
     "execution_count": 67,
     "metadata": {},
     "output_type": "execute_result"
    }
   ],
   "source": [
    "kg.query(\"\"\"\n",
    "    MATCH (incident:Record911)\n",
    "    WHERE incident.neighborhood_name = \"Nortown\"\n",
    "    RETURN count(incident) AS incident_count\n",
    "\"\"\")"
   ]
  },
  {
   "cell_type": "code",
   "execution_count": 73,
   "id": "dfa610bb",
   "metadata": {},
   "outputs": [
    {
     "data": {
      "text/plain": [
       "[{'crime': {'nearest_intersection': 'Prest St & Plymouth Rd',\n",
       "   'latitude': 42.3725927891856,\n",
       "   'charge_description': 'OBSTRUCTING POLICE',\n",
       "   'neighborhood': 'Plymouth-Hubbell',\n",
       "   'incidentId': '1096475-4801',\n",
       "   'longitude': -83.1964520935905}}]"
      ]
     },
     "execution_count": 73,
     "metadata": {},
     "output_type": "execute_result"
    }
   ],
   "source": [
    "recordsRMs_node_query = \"\"\"\n",
    "MERGE(crime:RecordRMS {incidentId: $record.incident_entry_id})\n",
    "    ON CREATE SET \n",
    "        crime.charge_description = $record.charge_description,\n",
    "        crime.nearest_intersection = $record.nearest_intersection,\n",
    "        crime.neighborhood = $record.neighborhood,\n",
    "        crime.longitude = $record.longitude,\n",
    "        crime.latitude = $record.latitude\n",
    "RETURN crime\n",
    "\"\"\"\n",
    "kg.query(recordsRMs_node_query, \n",
    "         params={'record':recordsRMS[0]})"
   ]
  },
  {
   "cell_type": "code",
   "execution_count": 78,
   "id": "2e42f9b5",
   "metadata": {},
   "outputs": [],
   "source": [
    "for record in recordsRMS[0:3000]:\n",
    "    kg.query(recordsRMs_node_query, \n",
    "             params={'record':record})"
   ]
  },
  {
   "cell_type": "code",
   "execution_count": 77,
   "id": "d3d51f0d",
   "metadata": {},
   "outputs": [
    {
     "data": {
      "text/plain": [
       "[{'incident_to_crime': 28}]"
      ]
     },
     "execution_count": 77,
     "metadata": {},
     "output_type": "execute_result"
    }
   ],
   "source": [
    "kg.query(\"\"\"\n",
    "    MATCH (incident:Record911), (crime:RecordRMS)\n",
    "        WHERE incident.neighborhood_name = crime.neighborhood\n",
    "    MERGE (incident)-[newrelationship:RELATED_TO]->(crime)\n",
    "    RETURN count(newrelationship) AS incident_to_crime\n",
    "\"\"\")"
   ]
  },
  {
   "cell_type": "code",
   "execution_count": 99,
   "id": "95c51d96",
   "metadata": {},
   "outputs": [
    {
     "name": "stdout",
     "output_type": "stream",
     "text": [
      "Node properties:\n",
      "Record911 {incidentId: INTEGER, incident_location: STRING, call_description: STRING, called_at: STRING, neighborhood_name: STRING, longitude: FLOAT, latitude: FLOAT}\n",
      "RecordRMS {incidentId: STRING, longitude: FLOAT, latitude: FLOAT, charge_description: STRING, nearest_intersection: STRING, neighborhood: STRING}\n",
      "Neighborhood {name: STRING}\n",
      "Relationship properties:\n",
      "\n",
      "The relationships:\n",
      "\n"
     ]
    }
   ],
   "source": [
    "kg.refresh_schema()\n",
    "print(kg.schema)"
   ]
  },
  {
   "cell_type": "code",
   "execution_count": 97,
   "id": "9b7fa906",
   "metadata": {},
   "outputs": [],
   "source": [
    "# create nodes from combined_unique_neighborhoods with longitude and latitude\n",
    "neighborhood_node_query = \"\"\"\n",
    "MERGE (n:Neighborhood {name: $neighborhood_name})\n",
    "    ON CREATE SET \n",
    "        n.longitude = $longitude,\n",
    "        n.latitude = $latitude\n",
    "RETURN n\n",
    "\"\"\"\n",
    "\n",
    "for _, neighborhood in df_neighborhoods.iterrows():\n",
    "    kg.query(neighborhood_node_query, \n",
    "             params={\n",
    "                 'neighborhood_name': neighborhood['neighborhood_name'],\n",
    "                 'longitude': neighborhood.get('longitude', None), \n",
    "                 'latitude': neighborhood.get('latitude', None)\n",
    "             })"
   ]
  },
  {
   "cell_type": "code",
   "execution_count": 103,
   "id": "08703f2c",
   "metadata": {},
   "outputs": [
    {
     "data": {
      "text/plain": [
       "[{'incident_count': 168, 'crime_count': 168}]"
      ]
     },
     "execution_count": 103,
     "metadata": {},
     "output_type": "execute_result"
    }
   ],
   "source": [
    "kg.query(\"\"\"\n",
    "    MATCH (incident:Record911), (crime:RecordRMS), (n:Neighborhood {name: \"Nortown\"})\n",
    "        WHERE incident.neighborhood_name = n.name AND crime.neighborhood = n.name\n",
    "    RETURN count(incident) AS incident_count, count(crime) AS crime_count\n",
    "\"\"\")"
   ]
  },
  {
   "cell_type": "code",
   "execution_count": 115,
   "id": "c43efc6c",
   "metadata": {},
   "outputs": [
    {
     "data": {
      "text/plain": [
       "[{'incident_count': 14}]"
      ]
     },
     "execution_count": 115,
     "metadata": {},
     "output_type": "execute_result"
    }
   ],
   "source": [
    "kg.query(\"\"\"\n",
    "    MATCH (incident:Record911), (n:Neighborhood {name: \"Jefferson Chalmers\"})\n",
    "        WHERE incident.neighborhood_name = n.name \n",
    "    RETURN count(incident) AS incident_count\n",
    "\"\"\")\n",
    "# 'Garden Homes',\n",
    "#  'Hubbard Richard',\n",
    "#  'Oakwood Heights',"
   ]
  },
  {
   "cell_type": "code",
   "execution_count": 118,
   "id": "82292b37",
   "metadata": {},
   "outputs": [
    {
     "data": {
      "text/plain": [
       "[{'incident_count': 2951}]"
      ]
     },
     "execution_count": 118,
     "metadata": {},
     "output_type": "execute_result"
    }
   ],
   "source": [
    "# add relationship: [happened at] between incident and neighborhood \n",
    "kg.query(\"\"\"\n",
    "    MATCH (incident:Record911), (n:Neighborhood)\n",
    "        WHERE incident.neighborhood_name = n.name \n",
    "    MERGE (incident)-[:HAPPENED_AT]->(n)\n",
    "    RETURN count(incident) AS incident_count\n",
    "\"\"\")"
   ]
  },
  {
   "cell_type": "code",
   "execution_count": 121,
   "id": "24b881ec",
   "metadata": {},
   "outputs": [
    {
     "data": {
      "text/plain": [
       "[{'incident_count': 2950}]"
      ]
     },
     "execution_count": 121,
     "metadata": {},
     "output_type": "execute_result"
    }
   ],
   "source": [
    "kg.query(\"\"\"\n",
    "    MATCH (incident:RecordRMS), (n:Neighborhood)\n",
    "        WHERE incident.neighborhood = n.name \n",
    "    MERGE (incident)-[:HAPPENED_AT]->(n)\n",
    "    RETURN count(incident) AS incident_count\n",
    "\"\"\")"
   ]
  },
  {
   "cell_type": "code",
   "execution_count": 122,
   "id": "c09398d4",
   "metadata": {},
   "outputs": [
    {
     "name": "stdout",
     "output_type": "stream",
     "text": [
      "Node properties:\n",
      "Record911 {incidentId: INTEGER, incident_location: STRING, call_description: STRING, called_at: STRING, neighborhood_name: STRING, longitude: FLOAT, latitude: FLOAT}\n",
      "RecordRMS {incidentId: STRING, longitude: FLOAT, latitude: FLOAT, charge_description: STRING, nearest_intersection: STRING, neighborhood: STRING}\n",
      "Neighborhood {name: STRING}\n",
      "Relationship properties:\n",
      "\n",
      "The relationships:\n",
      "(:Record911)-[:HAPPENED_AT]->(:Neighborhood)\n",
      "(:RecordRMS)-[:HAPPENED_AT]->(:Neighborhood)\n"
     ]
    }
   ],
   "source": [
    "kg.refresh_schema()\n",
    "print(kg.schema)"
   ]
  },
  {
   "cell_type": "code",
   "execution_count": 124,
   "id": "c1092723",
   "metadata": {},
   "outputs": [
    {
     "data": {
      "text/plain": [
       "[{'neighborhood': 'Nortown', 'incident_count': 14, 'crime_count': 12}]"
      ]
     },
     "execution_count": 124,
     "metadata": {},
     "output_type": "execute_result"
    }
   ],
   "source": [
    "kg.query(\"\"\"\n",
    "    MATCH (n:Neighborhood {name: $neighborhood_name})\n",
    "    OPTIONAL MATCH (incident:Record911)-[:HAPPENED_AT]->(n)\n",
    "    OPTIONAL MATCH (crime:RecordRMS)-[:HAPPENED_AT]->(n)\n",
    "    RETURN n.name AS neighborhood, count(DISTINCT incident) AS incident_count, count(DISTINCT crime) AS crime_count\n",
    "\"\"\", params={\"neighborhood_name\": \"Nortown\"})\n"
   ]
  },
  {
   "cell_type": "code",
   "execution_count": 125,
   "id": "c5fa0552",
   "metadata": {},
   "outputs": [
    {
     "data": {
      "text/plain": [
       "[{'neighborhood': 'Jefferson Chalmers',\n",
       "  'incident_count': 14,\n",
       "  'crime_count': 23}]"
      ]
     },
     "execution_count": 125,
     "metadata": {},
     "output_type": "execute_result"
    }
   ],
   "source": [
    "kg.query(\"\"\"\n",
    "    MATCH (n:Neighborhood {name: $neighborhood_name})\n",
    "    OPTIONAL MATCH (incident:Record911)-[:HAPPENED_AT]->(n)\n",
    "    OPTIONAL MATCH (crime:RecordRMS)-[:HAPPENED_AT]->(n)\n",
    "    RETURN n.name AS neighborhood, count(DISTINCT incident) AS incident_count, count(DISTINCT crime) AS crime_count\n",
    "\"\"\", params={\"neighborhood_name\": \"Jefferson Chalmers\"})"
   ]
  }
 ],
 "metadata": {
  "kernelspec": {
   "display_name": "midas_aug25",
   "language": "python",
   "name": "python3"
  },
  "language_info": {
   "codemirror_mode": {
    "name": "ipython",
    "version": 3
   },
   "file_extension": ".py",
   "mimetype": "text/x-python",
   "name": "python",
   "nbconvert_exporter": "python",
   "pygments_lexer": "ipython3",
   "version": "3.10.18"
  }
 },
 "nbformat": 4,
 "nbformat_minor": 5
}
